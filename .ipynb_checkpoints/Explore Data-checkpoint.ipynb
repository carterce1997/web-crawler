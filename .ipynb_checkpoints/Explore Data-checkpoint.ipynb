{
 "cells": [
  {
   "cell_type": "code",
   "execution_count": 18,
   "metadata": {},
   "outputs": [],
   "source": [
    "import urllib.parse\n",
    "import requests\n",
    "from bs4 import BeautifulSoup"
   ]
  },
  {
   "cell_type": "code",
   "execution_count": 21,
   "metadata": {},
   "outputs": [],
   "source": [
    "url = 'https://www.nhgis.org/'"
   ]
  },
  {
   "cell_type": "code",
   "execution_count": 22,
   "metadata": {},
   "outputs": [],
   "source": [
    "def parse_url(url) -> str:\n",
    "    return str(urllib.parse.urlparse(url).geturl())"
   ]
  },
  {
   "cell_type": "code",
   "execution_count": 23,
   "metadata": {},
   "outputs": [],
   "source": [
    "def get_base(url):\n",
    "    parsed = urllib.parse.urlparse(url)\n",
    "    return f'{parsed.scheme}://{parsed.netloc}'"
   ]
  },
  {
   "cell_type": "code",
   "execution_count": 24,
   "metadata": {},
   "outputs": [
    {
     "data": {
      "text/plain": [
       "'https://www.nhgis.org'"
      ]
     },
     "execution_count": 24,
     "metadata": {},
     "output_type": "execute_result"
    }
   ],
   "source": [
    "get_base(url)"
   ]
  },
  {
   "cell_type": "code",
   "execution_count": 25,
   "metadata": {},
   "outputs": [],
   "source": [
    "results = requests.get(url)"
   ]
  },
  {
   "cell_type": "code",
   "execution_count": 26,
   "metadata": {},
   "outputs": [],
   "source": [
    "soup = BeautifulSoup(results.content)"
   ]
  },
  {
   "cell_type": "code",
   "execution_count": 42,
   "metadata": {},
   "outputs": [],
   "source": [
    "text = '. '.join([str.lower(p.text) for p in soup.find_all('p')])"
   ]
  },
  {
   "cell_type": "code",
   "execution_count": 43,
   "metadata": {},
   "outputs": [
    {
     "data": {
      "text/plain": [
       "'national historical gis. the national historical geographic information system (nhgis) provides easy access to summary tables and time series of population, housing, agriculture, and economic data, along with gis-compatible boundary files, for years from 1790 through the present and for all levels of u.s. census geography, including states, counties, tracts, and blocks. read more.. get data. ipums provides census and survey data from around the world integrated across time and space. ipums integration and documentation makes it easy to study change, conduct comparative research, merge information across data types, and analyze individuals within family and community context. data and services are available free of charge. learn more about ipums..   . copyright © ipums,  university of minnesota.'"
      ]
     },
     "execution_count": 43,
     "metadata": {},
     "output_type": "execute_result"
    }
   ],
   "source": [
    "text"
   ]
  },
  {
   "cell_type": "code",
   "execution_count": 37,
   "metadata": {},
   "outputs": [],
   "source": [
    "import spacy"
   ]
  },
  {
   "cell_type": "code",
   "execution_count": 46,
   "metadata": {},
   "outputs": [],
   "source": [
    "nlp = spacy.load(\"en_core_web_sm\")\n",
    "doc = nlp(text)\n"
   ]
  },
  {
   "cell_type": "code",
   "execution_count": 48,
   "metadata": {},
   "outputs": [],
   "source": []
  },
  {
   "cell_type": "code",
   "execution_count": 58,
   "metadata": {},
   "outputs": [],
   "source": [
    "def get_noun_phrases(doc):\n",
    "    \n",
    "    for chunk in doc.noun_chunks:\n",
    "        phrase = chunk.text\n",
    "\n",
    "        if ' and ' in phrase:\n",
    "            subphrases = phrase.split(' and ')\n",
    "            for subphrase in subphrases:\n",
    "                yield subphrase\n",
    "        else:\n",
    "            yield phrase"
   ]
  },
  {
   "cell_type": "code",
   "execution_count": 59,
   "metadata": {},
   "outputs": [
    {
     "name": "stdout",
     "output_type": "stream",
     "text": [
      "national historical gis\n",
      "the national historical geographic information system\n",
      "nhgis\n",
      "easy access\n",
      "summary tables\n",
      "time series\n",
      "population\n",
      "housing\n",
      "agriculture\n",
      "economic data\n",
      "gis-compatible boundary files\n",
      "years\n",
      "the present\n",
      "all levels\n",
      "u.s. census geography\n",
      "states\n",
      "counties\n",
      "tracts\n",
      "blocks\n",
      "data\n",
      "ipums\n",
      "census\n",
      "survey data\n",
      "the world\n",
      "time\n",
      "space\n",
      "ipums integration\n",
      "documentation\n",
      "it\n",
      "change\n",
      "comparative research\n",
      "information\n",
      "data types\n",
      "analyze\n",
      "individuals\n",
      "family\n",
      "community\n",
      "context\n",
      "data\n",
      "services\n",
      "charge\n",
      "ipums\n",
      "copyright © ipums\n",
      "university\n",
      "minnesota\n"
     ]
    }
   ],
   "source": [
    "for phrase in get_noun_phrases(nlp, text):\n",
    "    print(phrase)"
   ]
  },
  {
   "cell_type": "code",
   "execution_count": null,
   "metadata": {},
   "outputs": [],
   "source": []
  }
 ],
 "metadata": {
  "kernelspec": {
   "display_name": "Python 3",
   "language": "python",
   "name": "python3"
  },
  "language_info": {
   "codemirror_mode": {
    "name": "ipython",
    "version": 3
   },
   "file_extension": ".py",
   "mimetype": "text/x-python",
   "name": "python",
   "nbconvert_exporter": "python",
   "pygments_lexer": "ipython3",
   "version": "3.7.5"
  }
 },
 "nbformat": 4,
 "nbformat_minor": 2
}
